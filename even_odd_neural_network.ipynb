{
 "cells": [
  {
   "cell_type": "markdown",
   "metadata": {},
   "source": [
    "# `EXAMPLE`\n",
    "\n",
    "Here I will show a simple example and analyse the accuracy of the network. The example in question is identifying even and odd numbers."
   ]
  },
  {
   "cell_type": "code",
   "execution_count": 2,
   "metadata": {},
   "outputs": [],
   "source": [
    "from numpy import floor\n",
    "from numpy.random import uniform\n",
    "\n",
    "from Mathematics_fundamentals.linear_algebra.linear_algebra import Vector\n",
    "from neural_network import Neural_Network"
   ]
  },
  {
   "cell_type": "code",
   "execution_count": 3,
   "metadata": {},
   "outputs": [],
   "source": [
    "def is_even(number:int) -> int:\n",
    "    \"\"\"\n",
    "    Parameters\n",
    "    ----------\n",
    "    number : int\n",
    "\n",
    "    Returns\n",
    "    -------\n",
    "    int\n",
    "        1 if number is odd, 0 if even\n",
    "    \"\"\"\n",
    "    if number % 2:\n",
    "        return Vector(0,1)\n",
    "    return Vector(1,0)"
   ]
  },
  {
   "cell_type": "code",
   "execution_count": 4,
   "metadata": {},
   "outputs": [],
   "source": [
    "def get_training_pair() -> list:\n",
    "    \"\"\"\n",
    "    Returns\n",
    "    -------\n",
    "    list\n",
    "        a number and whether it is even or not.\n",
    "    \"\"\"\n",
    "    r = floor(uniform(0,100))\n",
    "    return Vector(r),is_even(r)"
   ]
  },
  {
   "cell_type": "code",
   "execution_count": 5,
   "metadata": {},
   "outputs": [],
   "source": [
    "def get_training_data(length:int) -> Vector:\n",
    "    \"\"\"Will generate a vector of dimension length, containing\n",
    "    that many training pairs\n",
    "\n",
    "    Parameters\n",
    "    ----------\n",
    "    length : int\n",
    "        Desired dimension of training data\n",
    "\n",
    "    Returns\n",
    "    -------\n",
    "    Vector\n",
    "        Vector of training pairs\n",
    "    \"\"\"\n",
    "    number_list = [] \n",
    "    iseven_list = []\n",
    "    for i in range(length):\n",
    "        number,iseven = get_training_pair()\n",
    "        number_list.append(number)\n",
    "        iseven_list.append(iseven)\n",
    "    return number_list,iseven_list"
   ]
  },
  {
   "cell_type": "code",
   "execution_count": 6,
   "metadata": {},
   "outputs": [],
   "source": [
    "def find_accuracy(number_of_trials,tolerance,network:Neural_Network):\n",
    "    error = 0\n",
    "    for i in range(number_of_trials):\n",
    "        a = floor(uniform(0,1000))\n",
    "        classified_output = network.classify_output(Vector(a))\n",
    "        is_even = a % 2\n",
    "        if classified_output == is_even:\n",
    "            error+=1\n",
    "    return error/number_of_trials\n"
   ]
  },
  {
   "cell_type": "code",
   "execution_count": 7,
   "metadata": {},
   "outputs": [],
   "source": [
    "odd_even_network = Neural_Network(1,8,8,8,8,2)"
   ]
  },
  {
   "cell_type": "code",
   "execution_count": 8,
   "metadata": {},
   "outputs": [],
   "source": [
    "NUM_OF_TRAINING_DATA = 2"
   ]
  },
  {
   "cell_type": "code",
   "execution_count": 9,
   "metadata": {},
   "outputs": [],
   "source": [
    "inputs,outputs = get_training_data(NUM_OF_TRAINING_DATA)"
   ]
  },
  {
   "cell_type": "code",
   "execution_count": 10,
   "metadata": {},
   "outputs": [
    {
     "name": "stderr",
     "output_type": "stream",
     "text": [
      "/Users/benwills/Desktop/bens-perceptron-neural-network/Mathematics_fundamentals/functions/functions.py:37: RuntimeWarning: overflow encountered in exp\n",
      "  return 1 / (1 + np.exp(-x))\n"
     ]
    },
    {
     "name": "stdout",
     "output_type": "stream",
     "text": [
      "49.78% accurate.\n"
     ]
    }
   ],
   "source": [
    "print(f'{find_accuracy(10000,10 ** -5,odd_even_network):.2%} accurate.')"
   ]
  },
  {
   "cell_type": "code",
   "execution_count": 11,
   "metadata": {},
   "outputs": [
    {
     "name": "stdout",
     "output_type": "stream",
     "text": [
      "0\n",
      "0.009987700482371626\n",
      "1\n",
      "broke on iteration 10001 with a cost of 0.5000218381421127\n",
      "0.5000218381421127\n"
     ]
    }
   ],
   "source": [
    "for i in range(NUM_OF_TRAINING_DATA):\n",
    "    print(i)\n",
    "    odd_even_network = odd_even_network.learn(inputs[i],outputs[i],learning_rate = 0.1)"
   ]
  },
  {
   "cell_type": "code",
   "execution_count": 16,
   "metadata": {},
   "outputs": [
    {
     "name": "stdout",
     "output_type": "stream",
     "text": [
      "50.18% accurate.\n"
     ]
    }
   ],
   "source": [
    "print(f'{find_accuracy(10000,10 ** -5,odd_even_network):.2%} accurate.')"
   ]
  },
  {
   "cell_type": "code",
   "execution_count": 19,
   "metadata": {},
   "outputs": [],
   "source": [
    "input = Vector(16)\n",
    "Output = Vector(0,1)"
   ]
  },
  {
   "cell_type": "code",
   "execution_count": 20,
   "metadata": {},
   "outputs": [
    {
     "name": "stdout",
     "output_type": "stream",
     "text": [
      "[\n",
      "[0.00662576898508981],\n",
      "[3.883438837230825e-09]\n",
      "]\n"
     ]
    }
   ],
   "source": [
    "odd_even_network.get_output(input).show_vector()"
   ]
  },
  {
   "cell_type": "code",
   "execution_count": null,
   "metadata": {},
   "outputs": [],
   "source": []
  }
 ],
 "metadata": {
  "kernelspec": {
   "display_name": "Python 3.9.13 64-bit",
   "language": "python",
   "name": "python3"
  },
  "language_info": {
   "codemirror_mode": {
    "name": "ipython",
    "version": 3
   },
   "file_extension": ".py",
   "mimetype": "text/x-python",
   "name": "python",
   "nbconvert_exporter": "python",
   "pygments_lexer": "ipython3",
   "version": "3.9.13"
  },
  "orig_nbformat": 4,
  "vscode": {
   "interpreter": {
    "hash": "b0fa6594d8f4cbf19f97940f81e996739fb7646882a419484c72d19e05852a7e"
   }
  }
 },
 "nbformat": 4,
 "nbformat_minor": 2
}
