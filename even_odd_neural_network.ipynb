{
 "cells": [
  {
   "cell_type": "markdown",
   "metadata": {},
   "source": [
    "# `EXAMPLE`\n",
    "\n",
    "Here I will show a simple example and analyse the accuracy of the network. The example in question is identifying even and odd numbers."
   ]
  },
  {
   "cell_type": "code",
   "execution_count": 4,
   "metadata": {},
   "outputs": [],
   "source": [
    "from neural_network import Neural_Network\n",
    "from Mathematics_fundamentals.linear_algebra.linear_algebra import Vector\n",
    "from numpy.random import uniform\n",
    "from numpy import floor"
   ]
  },
  {
   "cell_type": "code",
   "execution_count": 2,
   "metadata": {},
   "outputs": [],
   "source": [
    "def is_even(number:int) -> int:\n",
    "    \"\"\"\n",
    "    Parameters\n",
    "    ----------\n",
    "    number : int\n",
    "\n",
    "    Returns\n",
    "    -------\n",
    "    int\n",
    "        1 if number is odd, 0 if even\n",
    "    \"\"\"\n",
    "    if number % 2:\n",
    "        return 1\n",
    "    return 0"
   ]
  },
  {
   "cell_type": "code",
   "execution_count": 5,
   "metadata": {},
   "outputs": [],
   "source": [
    "def get_training_data(length:int) -> Vector:\n",
    "    random_integers = [\n",
    "        floor(uniform(0,100)) for i in range(length)\n",
    "    ]\n",
    "    data_pairs = [\n",
    "        [i,is_even(i)] for i in random_integers\n",
    "    ]\n",
    "    return data_pairs"
   ]
  },
  {
   "cell_type": "code",
   "execution_count": 7,
   "metadata": {},
   "outputs": [
    {
     "data": {
      "text/plain": [
       "[[1.0, 1],\n",
       " [50.0, 0],\n",
       " [37.0, 1],\n",
       " [26.0, 0],\n",
       " [16.0, 0],\n",
       " [82.0, 0],\n",
       " [34.0, 0],\n",
       " [91.0, 1],\n",
       " [86.0, 0],\n",
       " [29.0, 1],\n",
       " [75.0, 1]]"
      ]
     },
     "execution_count": 7,
     "metadata": {},
     "output_type": "execute_result"
    }
   ],
   "source": []
  }
 ],
 "metadata": {
  "kernelspec": {
   "display_name": "Python 3.9.13 64-bit",
   "language": "python",
   "name": "python3"
  },
  "language_info": {
   "codemirror_mode": {
    "name": "ipython",
    "version": 3
   },
   "file_extension": ".py",
   "mimetype": "text/x-python",
   "name": "python",
   "nbconvert_exporter": "python",
   "pygments_lexer": "ipython3",
   "version": "3.9.13"
  },
  "orig_nbformat": 4,
  "vscode": {
   "interpreter": {
    "hash": "b0fa6594d8f4cbf19f97940f81e996739fb7646882a419484c72d19e05852a7e"
   }
  }
 },
 "nbformat": 4,
 "nbformat_minor": 2
}
