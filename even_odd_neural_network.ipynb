{
 "cells": [
  {
   "cell_type": "markdown",
   "metadata": {},
   "source": [
    "# `EXAMPLE`\n",
    "\n",
    "Here I will show a simple example and analyse the accuracy of the network. The example in question is identifying even and odd numbers."
   ]
  },
  {
   "cell_type": "code",
   "execution_count": 30,
   "metadata": {},
   "outputs": [],
   "source": [
    "from numpy import floor\n",
    "from numpy.random import uniform\n",
    "\n",
    "from Mathematics_fundamentals.linear_algebra.linear_algebra import Vector\n",
    "from neural_network import Neural_Network"
   ]
  },
  {
   "cell_type": "code",
   "execution_count": 31,
   "metadata": {},
   "outputs": [],
   "source": [
    "def is_even(number:int) -> int:\n",
    "    \"\"\"\n",
    "    Parameters\n",
    "    ----------\n",
    "    number : int\n",
    "\n",
    "    Returns\n",
    "    -------\n",
    "    int\n",
    "        1 if number is odd, 0 if even\n",
    "    \"\"\"\n",
    "    if number % 2:\n",
    "        return 1\n",
    "    return 0"
   ]
  },
  {
   "cell_type": "code",
   "execution_count": 32,
   "metadata": {},
   "outputs": [],
   "source": [
    "def get_training_pair() -> list:\n",
    "    \"\"\"\n",
    "    Returns\n",
    "    -------\n",
    "    list\n",
    "        a number and whether it is even or not.\n",
    "    \"\"\"\n",
    "    r = floor(uniform(0,100))\n",
    "    return [r,is_even(r)]"
   ]
  },
  {
   "cell_type": "code",
   "execution_count": 33,
   "metadata": {},
   "outputs": [],
   "source": [
    "def get_training_data(length:int) -> Vector:\n",
    "    \"\"\"Will generate a vector of dimension length, containing\n",
    "    that many training pairs\n",
    "\n",
    "    Parameters\n",
    "    ----------\n",
    "    length : int\n",
    "        Desired dimension of training data\n",
    "\n",
    "    Returns\n",
    "    -------\n",
    "    Vector\n",
    "        Vector of training pairs\n",
    "    \"\"\"\n",
    "    data_pairs = [\n",
    "        get_training_pair() \n",
    "        for i in range(length)\n",
    "    ]\n",
    "    return Vector(*data_pairs)"
   ]
  },
  {
   "cell_type": "code",
   "execution_count": 34,
   "metadata": {},
   "outputs": [],
   "source": [
    "network = Neural_Network(1,2,2)"
   ]
  },
  {
   "cell_type": "code",
   "execution_count": 35,
   "metadata": {},
   "outputs": [
    {
     "name": "stdout",
     "output_type": "stream",
     "text": [
      "[\n",
      "[0.4101824601738325],\n",
      "[0.3251302081239638]\n",
      "]\n"
     ]
    }
   ],
   "source": [
    "input,output = Vector(15),Vector(0,1)\n",
    "network.get_output(input).show_vector()\n",
    "# network.learn(input,output)"
   ]
  },
  {
   "cell_type": "code",
   "execution_count": 36,
   "metadata": {},
   "outputs": [],
   "source": [
    "network_test = Neural_Network(1,2,2)"
   ]
  },
  {
   "cell_type": "code",
   "execution_count": 37,
   "metadata": {},
   "outputs": [
    {
     "name": "stdout",
     "output_type": "stream",
     "text": [
      "[\n",
      "[0.2718098604369401]\n",
      "[0.750198837199344]\n",
      "]\n",
      "[\n",
      "[0.6602683981469564, -0.12537371742360182]\n",
      "[0.5177880660529681, -0.5293818630857641]\n",
      "]\n"
     ]
    }
   ],
   "source": [
    "for layer in network_test.layers:\n",
    "    layer.weights.show_matrix()"
   ]
  },
  {
   "cell_type": "code",
   "execution_count": 38,
   "metadata": {},
   "outputs": [
    {
     "name": "stdout",
     "output_type": "stream",
     "text": [
      "[\n",
      "[0.2664587004709737]\n",
      "[0.7448453416349962]\n",
      "]\n",
      "[\n",
      "[0.5910792796338483, -0.2648863588360835]\n",
      "[0.41989764197709845, -0.5849740326931913]\n",
      "]\n"
     ]
    }
   ],
   "source": [
    "def function(network_test):\n",
    "    for layer in network_test.layers:\n",
    "        new_weights = layer.weights - network_test.get_weight_derivative(layer,input,output) * 0.5\n",
    "        layer.weights = new_weights\n",
    "        new_weights.show_matrix()\n",
    "    return network_test\n",
    "network_test = function(network_test)"
   ]
  },
  {
   "cell_type": "code",
   "execution_count": 39,
   "metadata": {},
   "outputs": [
    {
     "name": "stdout",
     "output_type": "stream",
     "text": [
      "[\n",
      "[0.2664587004709737]\n",
      "[0.7448453416349962]\n",
      "]\n",
      "[\n",
      "[0.5910792796338483, -0.2648863588360835]\n",
      "[0.41989764197709845, -0.5849740326931913]\n",
      "]\n"
     ]
    }
   ],
   "source": [
    "for layer in network_test.layers:\n",
    "    layer.weights.show_matrix()"
   ]
  }
 ],
 "metadata": {
  "kernelspec": {
   "display_name": "Python 3.9.13 64-bit",
   "language": "python",
   "name": "python3"
  },
  "language_info": {
   "codemirror_mode": {
    "name": "ipython",
    "version": 3
   },
   "file_extension": ".py",
   "mimetype": "text/x-python",
   "name": "python",
   "nbconvert_exporter": "python",
   "pygments_lexer": "ipython3",
   "version": "3.9.13"
  },
  "orig_nbformat": 4,
  "vscode": {
   "interpreter": {
    "hash": "b0fa6594d8f4cbf19f97940f81e996739fb7646882a419484c72d19e05852a7e"
   }
  }
 },
 "nbformat": 4,
 "nbformat_minor": 2
}
