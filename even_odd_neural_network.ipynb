{
 "cells": [
  {
   "cell_type": "markdown",
   "metadata": {},
   "source": [
    "# `EXAMPLE`\n",
    "\n",
    "Here I will show a simple example and analyse the accuracy of the network. The example in question is identifying even and odd numbers."
   ]
  },
  {
   "cell_type": "code",
   "execution_count": 14,
   "metadata": {},
   "outputs": [],
   "source": [
    "from numpy import floor\n",
    "from numpy.random import uniform\n",
    "\n",
    "from Mathematics_fundamentals.linear_algebra.linear_algebra import Vector\n",
    "from neural_network import Neural_Network"
   ]
  },
  {
   "cell_type": "code",
   "execution_count": 15,
   "metadata": {},
   "outputs": [],
   "source": [
    "def is_even(number:int) -> int:\n",
    "    \"\"\"\n",
    "    Parameters\n",
    "    ----------\n",
    "    number : int\n",
    "\n",
    "    Returns\n",
    "    -------\n",
    "    int\n",
    "        1 if number is odd, 0 if even\n",
    "    \"\"\"\n",
    "    if number % 2:\n",
    "        return Vector(0,1)\n",
    "    return Vector(1,0)"
   ]
  },
  {
   "cell_type": "code",
   "execution_count": 16,
   "metadata": {},
   "outputs": [],
   "source": [
    "def get_training_pair() -> list:\n",
    "    \"\"\"\n",
    "    Returns\n",
    "    -------\n",
    "    list\n",
    "        a number and whether it is even or not.\n",
    "    \"\"\"\n",
    "    r = floor(uniform(0,100))\n",
    "    return Vector(r),is_even(r)"
   ]
  },
  {
   "cell_type": "code",
   "execution_count": 17,
   "metadata": {},
   "outputs": [],
   "source": [
    "def get_training_data(length:int) -> Vector:\n",
    "    \"\"\"Will generate a vector of dimension length, containing\n",
    "    that many training pairs\n",
    "\n",
    "    Parameters\n",
    "    ----------\n",
    "    length : int\n",
    "        Desired dimension of training data\n",
    "\n",
    "    Returns\n",
    "    -------\n",
    "    Vector\n",
    "        Vector of training pairs\n",
    "    \"\"\"\n",
    "    number_list = [] \n",
    "    iseven_list = []\n",
    "    for i in range(length):\n",
    "        number,iseven = get_training_pair()\n",
    "        number_list.append(number)\n",
    "        iseven_list.append(iseven)\n",
    "    return number_list,iseven_list"
   ]
  },
  {
   "cell_type": "code",
   "execution_count": 18,
   "metadata": {},
   "outputs": [],
   "source": [
    "def find_accuracy(number_of_trials,tolerance,network:Neural_Network):\n",
    "    error = 0\n",
    "    for i in range(number_of_trials):\n",
    "        a = floor(uniform(0,1000))\n",
    "        classified_output = network.classify_output(Vector(a))\n",
    "        is_even = a % 2\n",
    "        if classified_output == is_even:\n",
    "            error+=1\n",
    "    return error/number_of_trials\n"
   ]
  },
  {
   "cell_type": "code",
   "execution_count": 19,
   "metadata": {},
   "outputs": [],
   "source": [
    "odd_even_network = Neural_Network(1,2,2)"
   ]
  },
  {
   "cell_type": "code",
   "execution_count": 20,
   "metadata": {},
   "outputs": [],
   "source": [
    "NUM_OF_TRAINING_DATA = 50"
   ]
  },
  {
   "cell_type": "code",
   "execution_count": 21,
   "metadata": {},
   "outputs": [],
   "source": [
    "inputs,outputs = get_training_data(NUM_OF_TRAINING_DATA)"
   ]
  },
  {
   "cell_type": "code",
   "execution_count": 22,
   "metadata": {},
   "outputs": [
    {
     "name": "stdout",
     "output_type": "stream",
     "text": [
      "49.17% accurate.\n"
     ]
    },
    {
     "name": "stderr",
     "output_type": "stream",
     "text": [
      "/Users/benwills/Desktop/bens-perceptron-neural-network/Mathematics_fundamentals/functions/functions.py:37: RuntimeWarning: overflow encountered in exp\n",
      "  return 1 / (1 + np.exp(-x))\n"
     ]
    }
   ],
   "source": [
    "print(f'{find_accuracy(10000,10 ** -5,odd_even_network):.2%} accurate.')"
   ]
  },
  {
   "cell_type": "code",
   "execution_count": 23,
   "metadata": {},
   "outputs": [
    {
     "name": "stdout",
     "output_type": "stream",
     "text": [
      "0\n",
      "0.009994302557020645\n",
      "1\n",
      "0.009993381892190376\n",
      "2\n",
      "0.009997310620510631\n",
      "3\n",
      "0.009997309634011034\n",
      "4\n",
      "0.009995520632133065\n",
      "5\n",
      "0.009995520632334354\n",
      "6\n",
      "0.009999643323506332\n",
      "7\n",
      "0.009999643323506278\n",
      "8\n",
      "0.00997680552295161\n",
      "9\n",
      "0.008988850090253792\n",
      "10\n",
      "0.00898885009025385\n",
      "11\n",
      "0.008988850090253792\n",
      "12\n",
      "0.008988850090253792\n",
      "13\n",
      "0.008988850090254139\n",
      "14\n",
      "0.008988850090254139\n",
      "15\n",
      "0.008988850090253792\n",
      "16\n",
      "0.009979590438176237\n",
      "17\n",
      "0.009995849716041288\n",
      "18\n",
      "0.009994894127928571\n",
      "19\n",
      "0.009976849286598897\n",
      "20\n",
      "0.009976849326054164\n",
      "21\n",
      "0.009976849328744925\n",
      "22\n",
      "0.009976849286598897\n",
      "23\n",
      "0.00999893698992501\n",
      "24\n",
      "0.009979652750234543\n",
      "25\n",
      "0.00997995524561504\n",
      "26\n",
      "0.00997995524561504\n",
      "27\n",
      "0.00997995524561504\n",
      "28\n",
      "0.009956976129515271\n",
      "29\n",
      "0.009956976129515271\n",
      "30\n",
      "0.009956976129515271\n",
      "31\n",
      "0.009956976129515271\n",
      "32\n",
      "0.009987932956870362\n",
      "33\n",
      "0.009987900879314527\n",
      "34\n",
      "0.009922707708645468\n",
      "35\n",
      "0.009997847291431352\n",
      "36\n",
      "0.009942607860250339\n",
      "37\n",
      "0.009980329648989855\n",
      "38\n",
      "0.009961477944658036\n",
      "39\n",
      "0.009987920424854763\n",
      "40\n",
      "0.009987898538584535\n",
      "41\n",
      "0.009936847607717951\n",
      "42\n",
      "0.009936847607717951\n",
      "43\n",
      "0.009998225004239764\n",
      "44\n",
      "0.00995810618077922\n",
      "45\n",
      "0.009980394382530903\n",
      "46\n",
      "0.009980394382530903\n",
      "47\n",
      "0.009922609862396774\n",
      "48\n",
      "0.009922609862396774\n",
      "49\n",
      "0.009922609862396774\n"
     ]
    }
   ],
   "source": [
    "for i in range(NUM_OF_TRAINING_DATA):\n",
    "    print(i)\n",
    "    odd_even_network = odd_even_network.learn(inputs[i],outputs[i],learning_rate = 0.1)"
   ]
  },
  {
   "cell_type": "code",
   "execution_count": 24,
   "metadata": {},
   "outputs": [
    {
     "name": "stdout",
     "output_type": "stream",
     "text": [
      "49.76% accurate.\n"
     ]
    }
   ],
   "source": [
    "print(f'{find_accuracy(10000,10 ** -5,odd_even_network):.2%} accurate.')"
   ]
  },
  {
   "cell_type": "code",
   "execution_count": null,
   "metadata": {},
   "outputs": [],
   "source": []
  }
 ],
 "metadata": {
  "kernelspec": {
   "display_name": "Python 3.9.13 64-bit",
   "language": "python",
   "name": "python3"
  },
  "language_info": {
   "codemirror_mode": {
    "name": "ipython",
    "version": 3
   },
   "file_extension": ".py",
   "mimetype": "text/x-python",
   "name": "python",
   "nbconvert_exporter": "python",
   "pygments_lexer": "ipython3",
   "version": "3.9.13"
  },
  "orig_nbformat": 4,
  "vscode": {
   "interpreter": {
    "hash": "b0fa6594d8f4cbf19f97940f81e996739fb7646882a419484c72d19e05852a7e"
   }
  }
 },
 "nbformat": 4,
 "nbformat_minor": 2
}
