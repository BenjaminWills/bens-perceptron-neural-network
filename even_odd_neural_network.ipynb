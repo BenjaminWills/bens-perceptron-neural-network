{
 "cells": [
  {
   "cell_type": "markdown",
   "metadata": {},
   "source": [
    "# `EXAMPLE`\n",
    "\n",
    "Here I will show a simple example and analyse the accuracy of the network. The example in question is identifying even and odd numbers."
   ]
  },
  {
   "cell_type": "code",
   "execution_count": 1,
   "metadata": {},
   "outputs": [],
   "source": [
    "from numpy import floor\n",
    "from numpy.random import uniform\n",
    "\n",
    "from Mathematics_fundamentals.linear_algebra.linear_algebra import Vector\n",
    "from neural_network import Neural_Network"
   ]
  },
  {
   "cell_type": "code",
   "execution_count": 2,
   "metadata": {},
   "outputs": [],
   "source": [
    "def is_even(number:int) -> int:\n",
    "    \"\"\"\n",
    "    Parameters\n",
    "    ----------\n",
    "    number : int\n",
    "\n",
    "    Returns\n",
    "    -------\n",
    "    int\n",
    "        1 if number is odd, 0 if even\n",
    "    \"\"\"\n",
    "    if number % 2:\n",
    "        return Vector(0,1)\n",
    "    return Vector(1,0)"
   ]
  },
  {
   "cell_type": "code",
   "execution_count": 3,
   "metadata": {},
   "outputs": [],
   "source": [
    "def get_training_pair() -> list:\n",
    "    \"\"\"\n",
    "    Returns\n",
    "    -------\n",
    "    list\n",
    "        a number and whether it is even or not.\n",
    "    \"\"\"\n",
    "    r = floor(uniform(0,100))\n",
    "    return Vector(r),is_even(r)"
   ]
  },
  {
   "cell_type": "code",
   "execution_count": 4,
   "metadata": {},
   "outputs": [],
   "source": [
    "def get_training_data(length:int) -> Vector:\n",
    "    \"\"\"Will generate a vector of dimension length, containing\n",
    "    that many training pairs\n",
    "\n",
    "    Parameters\n",
    "    ----------\n",
    "    length : int\n",
    "        Desired dimension of training data\n",
    "\n",
    "    Returns\n",
    "    -------\n",
    "    Vector\n",
    "        Vector of training pairs\n",
    "    \"\"\"\n",
    "    number_list = [] \n",
    "    iseven_list = []\n",
    "    for i in range(length):\n",
    "        number,iseven = get_training_pair()\n",
    "        number_list.append(number)\n",
    "        iseven_list.append(iseven)\n",
    "    return number_list,iseven_list"
   ]
  },
  {
   "cell_type": "code",
   "execution_count": 5,
   "metadata": {},
   "outputs": [],
   "source": [
    "odd_even_network = Neural_Network(1,2,2)"
   ]
  },
  {
   "cell_type": "code",
   "execution_count": 6,
   "metadata": {},
   "outputs": [],
   "source": [
    "NUM_OF_TRAINING_DATA = 50"
   ]
  },
  {
   "cell_type": "code",
   "execution_count": 7,
   "metadata": {},
   "outputs": [],
   "source": [
    "inputs,outputs = get_training_data(NUM_OF_TRAINING_DATA)"
   ]
  },
  {
   "cell_type": "code",
   "execution_count": 16,
   "metadata": {},
   "outputs": [
    {
     "name": "stdout",
     "output_type": "stream",
     "text": [
      "0\n",
      "1\n",
      "2\n",
      "3\n",
      "4\n",
      "5\n",
      "6\n",
      "7\n",
      "8\n",
      "9\n",
      "10\n",
      "11\n",
      "12\n",
      "13\n",
      "14\n",
      "15\n",
      "16\n",
      "17\n",
      "18\n",
      "19\n",
      "20\n",
      "21\n",
      "22\n",
      "23\n",
      "24\n",
      "25\n",
      "26\n",
      "27\n",
      "28\n",
      "29\n",
      "30\n",
      "31\n",
      "32\n",
      "33\n",
      "34\n",
      "35\n",
      "36\n",
      "37\n",
      "38\n",
      "39\n",
      "40\n",
      "41\n",
      "42\n",
      "43\n",
      "44\n",
      "45\n",
      "46\n",
      "47\n",
      "48\n",
      "49\n"
     ]
    }
   ],
   "source": [
    "for i in range(NUM_OF_TRAINING_DATA):\n",
    "    print(i)\n",
    "    odd_even_network = odd_even_network.learn(inputs[i],outputs[i])"
   ]
  },
  {
   "cell_type": "code",
   "execution_count": 17,
   "metadata": {},
   "outputs": [
    {
     "name": "stdout",
     "output_type": "stream",
     "text": [
      "[\n",
      "[0.6767190267335936],\n",
      "[0.6767190267335936]\n",
      "]\n",
      "[\n",
      "[0.281969295996852],\n",
      "[0.281969295996852]\n",
      "]\n"
     ]
    }
   ],
   "source": [
    "for layer in odd_even_network.layers:\n",
    "    layer.biases.show_vector()"
   ]
  },
  {
   "cell_type": "code",
   "execution_count": 18,
   "metadata": {},
   "outputs": [
    {
     "data": {
      "text/plain": [
       "1"
      ]
     },
     "execution_count": 18,
     "metadata": {},
     "output_type": "execute_result"
    }
   ],
   "source": [
    "odd_even_network.classify_output(Vector(4))"
   ]
  },
  {
   "cell_type": "code",
   "execution_count": null,
   "metadata": {},
   "outputs": [],
   "source": []
  }
 ],
 "metadata": {
  "kernelspec": {
   "display_name": "Python 3.9.13 64-bit",
   "language": "python",
   "name": "python3"
  },
  "language_info": {
   "codemirror_mode": {
    "name": "ipython",
    "version": 3
   },
   "file_extension": ".py",
   "mimetype": "text/x-python",
   "name": "python",
   "nbconvert_exporter": "python",
   "pygments_lexer": "ipython3",
   "version": "3.9.13"
  },
  "orig_nbformat": 4,
  "vscode": {
   "interpreter": {
    "hash": "b0fa6594d8f4cbf19f97940f81e996739fb7646882a419484c72d19e05852a7e"
   }
  }
 },
 "nbformat": 4,
 "nbformat_minor": 2
}
