{
 "cells": [
  {
   "cell_type": "markdown",
   "metadata": {},
   "source": [
    "# `EXAMPLE`\n",
    "\n",
    "Here I will show a simple example and analyse the accuracy of the network. The example in question is identifying even and odd numbers."
   ]
  },
  {
   "cell_type": "code",
   "execution_count": 43,
   "metadata": {},
   "outputs": [],
   "source": [
    "from numpy import floor\n",
    "from numpy.random import uniform\n",
    "\n",
    "from Mathematics_fundamentals.linear_algebra.linear_algebra import Vector\n",
    "from neural_network import Neural_Network"
   ]
  },
  {
   "cell_type": "code",
   "execution_count": 44,
   "metadata": {},
   "outputs": [],
   "source": [
    "def is_even(number:int) -> int:\n",
    "    \"\"\"\n",
    "    Parameters\n",
    "    ----------\n",
    "    number : int\n",
    "\n",
    "    Returns\n",
    "    -------\n",
    "    int\n",
    "        1 if number is odd, 0 if even\n",
    "    \"\"\"\n",
    "    if number % 2:\n",
    "        return 1\n",
    "    return 0"
   ]
  },
  {
   "cell_type": "code",
   "execution_count": 45,
   "metadata": {},
   "outputs": [],
   "source": [
    "def get_training_pair() -> list:\n",
    "    \"\"\"\n",
    "    Returns\n",
    "    -------\n",
    "    list\n",
    "        a number and whether it is even or not.\n",
    "    \"\"\"\n",
    "    r = floor(uniform(0,100))\n",
    "    return [r,is_even(r)]"
   ]
  },
  {
   "cell_type": "code",
   "execution_count": 46,
   "metadata": {},
   "outputs": [],
   "source": [
    "def get_training_data(length:int) -> Vector:\n",
    "    \"\"\"Will generate a vector of dimension length, containing\n",
    "    that many training pairs\n",
    "\n",
    "    Parameters\n",
    "    ----------\n",
    "    length : int\n",
    "        Desired dimension of training data\n",
    "\n",
    "    Returns\n",
    "    -------\n",
    "    Vector\n",
    "        Vector of training pairs\n",
    "    \"\"\"\n",
    "    data_pairs = [\n",
    "        get_training_pair() \n",
    "        for i in range(length)\n",
    "    ]\n",
    "    return Vector(*data_pairs)"
   ]
  },
  {
   "cell_type": "code",
   "execution_count": 47,
   "metadata": {},
   "outputs": [],
   "source": [
    "even_odd_network = Neural_Network(1,2,2)"
   ]
  }
 ],
 "metadata": {
  "kernelspec": {
   "display_name": "Python 3.9.13 64-bit",
   "language": "python",
   "name": "python3"
  },
  "language_info": {
   "codemirror_mode": {
    "name": "ipython",
    "version": 3
   },
   "file_extension": ".py",
   "mimetype": "text/x-python",
   "name": "python",
   "nbconvert_exporter": "python",
   "pygments_lexer": "ipython3",
   "version": "3.9.13"
  },
  "orig_nbformat": 4,
  "vscode": {
   "interpreter": {
    "hash": "b0fa6594d8f4cbf19f97940f81e996739fb7646882a419484c72d19e05852a7e"
   }
  }
 },
 "nbformat": 4,
 "nbformat_minor": 2
}
