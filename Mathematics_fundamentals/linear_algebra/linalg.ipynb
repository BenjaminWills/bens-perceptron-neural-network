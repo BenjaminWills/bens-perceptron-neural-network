{
 "cells": [
  {
   "cell_type": "markdown",
   "metadata": {},
   "source": [
    "# Linear algebra library showcase"
   ]
  },
  {
   "cell_type": "code",
   "execution_count": 1,
   "metadata": {},
   "outputs": [],
   "source": [
    "from Mathematics_fundamentals.linear_algebra.linear_algebra import (Matrix,\n",
    "                                                                    Vector)"
   ]
  },
  {
   "cell_type": "markdown",
   "metadata": {},
   "source": [
    "### Solving a linear system of equations for a column vector.\n",
    "\n",
    "Here we solve the equation $Ax=b$. Where $A\\in R^{n \\times n}$ and $x\\in R^{n}$, we require also that $det(A)=0$, so that each system has one solution."
   ]
  },
  {
   "cell_type": "code",
   "execution_count": 2,
   "metadata": {},
   "outputs": [
    {
     "name": "stdout",
     "output_type": "stream",
     "text": [
      "[\n",
      "[0.3],\n",
      "[0.08888888888888896],\n",
      "[0.03333333333333327]\n",
      "]\n"
     ]
    }
   ],
   "source": [
    "A = Matrix(\n",
    "    [2,3,4],\n",
    "    [5,3,7],\n",
    "    [9,3,1])\n",
    "b = Vector(1,2,3)\n",
    "\n",
    "\n",
    "x = Matrix.solve_system_of_equations(A,b)\n",
    "x.show_vector()"
   ]
  },
  {
   "cell_type": "markdown",
   "metadata": {},
   "source": [
    "## Creating a circle from any three points\n",
    "\n",
    "First we specify three points in two dimensions, then we find the perpendicular bisectors between those points. finally we find the intersection between our perpendicular vectors - this is our centre, the distance between this centre and any of the points is the radius.\n",
    "\n",
    "$$VW = \\bold{w}-\\bold{v}$$\n",
    "$$WZ = \\bold{z}-\\bold{w}$$"
   ]
  },
  {
   "cell_type": "code",
   "execution_count": 3,
   "metadata": {},
   "outputs": [],
   "source": [
    "import plotly.express as px\n",
    "import pandas as pd\n"
   ]
  },
  {
   "cell_type": "code",
   "execution_count": 4,
   "metadata": {},
   "outputs": [],
   "source": [
    "v1 = Vector(1,1)\n",
    "v2 = Vector(3,2)\n",
    "v3 = Vector(1,2)\n",
    "\n",
    "wz = v3-v2\n",
    "vw = v2-v1\n",
    "\n",
    "m1 =(v1+v2)*0.5\n",
    "m2 = (v2+v3)*0.5\n",
    "\n",
    "m_diff = m1-m2"
   ]
  },
  {
   "cell_type": "code",
   "execution_count": 5,
   "metadata": {},
   "outputs": [],
   "source": [
    "rotation = Matrix([0,-1],[1,0])\n",
    "inv_rotation = rotation.get_inverted_matrix()"
   ]
  },
  {
   "cell_type": "code",
   "execution_count": 6,
   "metadata": {},
   "outputs": [],
   "source": [
    "vector_matrix = Matrix()\n",
    "vector_matrix.add_columns(Vector.unpack_vector(wz),Vector.unpack_vector(vw))\n",
    "inv_vector_matrix = vector_matrix.get_inverted_matrix()"
   ]
  },
  {
   "cell_type": "code",
   "execution_count": 7,
   "metadata": {},
   "outputs": [],
   "source": [
    "coefficients = inv_rotation * m_diff * inv_vector_matrix"
   ]
  },
  {
   "cell_type": "code",
   "execution_count": 8,
   "metadata": {},
   "outputs": [],
   "source": [
    "centre = m2 + rotation * wz * coefficients.vector[0][0] "
   ]
  },
  {
   "cell_type": "code",
   "execution_count": 11,
   "metadata": {},
   "outputs": [],
   "source": [
    "vec = centre - v1\n",
    "radius = vec.get_magnitude()"
   ]
  },
  {
   "cell_type": "code",
   "execution_count": 13,
   "metadata": {},
   "outputs": [
    {
     "data": {
      "text/plain": [
       "([[2.0], [1.5]], 1.118033988749895)"
      ]
     },
     "execution_count": 13,
     "metadata": {},
     "output_type": "execute_result"
    }
   ],
   "source": [
    "centre.vector,radius"
   ]
  },
  {
   "cell_type": "code",
   "execution_count": 14,
   "metadata": {},
   "outputs": [],
   "source": [
    "def find_centre_and_radius(v1,v2,v3):\n",
    "    wz = v3-v2\n",
    "    vw = v2-v1\n",
    "\n",
    "    m1 =(v1+v2)*0.5\n",
    "    m2 = (v2+v3)*0.5\n",
    "\n",
    "    m_diff = m1-m2\n",
    "\n",
    "    rotation = Matrix([0,-1],[1,0])\n",
    "    inv_rotation = rotation.get_inverted_matrix()\n",
    "\n",
    "    vector_matrix = Matrix()\n",
    "    vector_matrix.add_columns(Vector.unpack_vector(wz),Vector.unpack_vector(vw))\n",
    "    inv_vector_matrix = vector_matrix.get_inverted_matrix()\n",
    "\n",
    "    coefficients = inv_rotation * m_diff * inv_vector_matrix\n",
    "    \n",
    "    centre = m2 + rotation * wz * coefficients.vector[0][0] \n",
    "\n",
    "    vec = centre - v1\n",
    "    radius = vec.get_magnitude()\n",
    "    return centre.vector,radius\n"
   ]
  },
  {
   "cell_type": "code",
   "execution_count": 19,
   "metadata": {},
   "outputs": [
    {
     "data": {
      "text/plain": [
       "([[5.058139534883721], [8.151162790697674]], 7.151399126365094)"
      ]
     },
     "execution_count": 19,
     "metadata": {},
     "output_type": "execute_result"
    }
   ],
   "source": [
    "v1 = Vector(5,1)\n",
    "v2 = Vector(3,15)\n",
    "v3 = Vector(-2,7)\n",
    "\n",
    "find_centre_and_radius(v1,v2,v3)"
   ]
  },
  {
   "cell_type": "code",
   "execution_count": null,
   "metadata": {},
   "outputs": [],
   "source": []
  }
 ],
 "metadata": {
  "kernelspec": {
   "display_name": "Python 3.9.13 64-bit",
   "language": "python",
   "name": "python3"
  },
  "language_info": {
   "codemirror_mode": {
    "name": "ipython",
    "version": 3
   },
   "file_extension": ".py",
   "mimetype": "text/x-python",
   "name": "python",
   "nbconvert_exporter": "python",
   "pygments_lexer": "ipython3",
   "version": "3.9.13"
  },
  "orig_nbformat": 4,
  "vscode": {
   "interpreter": {
    "hash": "b0fa6594d8f4cbf19f97940f81e996739fb7646882a419484c72d19e05852a7e"
   }
  }
 },
 "nbformat": 4,
 "nbformat_minor": 2
}
